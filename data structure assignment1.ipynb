{
 "cells": [
  {
   "cell_type": "markdown",
   "id": "22f79560",
   "metadata": {},
   "source": [
    "Assignment on operations "
   ]
  },
  {
   "cell_type": "markdown",
   "id": "cd7ffe59",
   "metadata": {},
   "source": [
    "1. computation and order "
   ]
  },
  {
   "cell_type": "code",
   "execution_count": 3,
   "id": "8f52dae4",
   "metadata": {},
   "outputs": [
    {
     "name": "stdout",
     "output_type": "stream",
     "text": [
      "14\n"
     ]
    }
   ],
   "source": [
    "x = 16 - 2 * 5 // 3 + 1\n",
    "print(x)"
   ]
  },
  {
   "cell_type": "markdown",
   "id": "d6d253a8",
   "metadata": {},
   "source": [
    "The order here: the multiplication of 2 and 5, then division by 3+1. Although this was supposed to be 2.5, it gave 2, because // was integar division. The subtraction happened last. "
   ]
  },
  {
   "cell_type": "code",
   "execution_count": 4,
   "id": "83ec034c",
   "metadata": {},
   "outputs": [
    {
     "name": "stdout",
     "output_type": "stream",
     "text": [
      "24\n"
     ]
    }
   ],
   "source": [
    "y=2**3*3\n",
    "print(y)"
   ]
  },
  {
   "cell_type": "markdown",
   "id": "f16e239e",
   "metadata": {},
   "source": [
    "The order: the 2 exponential 3 happened first, then multiplied by 3. "
   ]
  },
  {
   "cell_type": "markdown",
   "id": "e56cd06e",
   "metadata": {},
   "source": [
    "2. Use of parenthesis "
   ]
  },
  {
   "cell_type": "code",
   "execution_count": 5,
   "id": "994a1099",
   "metadata": {},
   "outputs": [
    {
     "name": "stdout",
     "output_type": "stream",
     "text": [
      "4\n"
     ]
    }
   ],
   "source": [
    "a=6*1-2\n",
    "print(a)"
   ]
  },
  {
   "cell_type": "code",
   "execution_count": 6,
   "id": "a169ba89",
   "metadata": {},
   "outputs": [
    {
     "name": "stdout",
     "output_type": "stream",
     "text": [
      "-6\n"
     ]
    }
   ],
   "source": [
    "b = 6 * (1-2)\n",
    "print(b)"
   ]
  },
  {
   "cell_type": "markdown",
   "id": "5a215236",
   "metadata": {},
   "source": [
    "3. Area of cycle "
   ]
  },
  {
   "cell_type": "code",
   "execution_count": 10,
   "id": "a2e4b5ac",
   "metadata": {},
   "outputs": [
    {
     "name": "stdout",
     "output_type": "stream",
     "text": [
      "The area of a circle with radius of 7 is 153.958, assuming that the constant pi is 3.142\n"
     ]
    }
   ],
   "source": [
    "radius = 7\n",
    "pi = 3.142\n",
    "Area = pi * radius**2\n",
    "print(\"The area of a circle with radius of {} is {}, assuming that the constant pi is {}\".format(radius, Area, pi))"
   ]
  },
  {
   "cell_type": "markdown",
   "id": "74283202",
   "metadata": {},
   "source": [
    "4. Checking a number "
   ]
  },
  {
   "cell_type": "code",
   "execution_count": 11,
   "id": "66ea9a5e",
   "metadata": {},
   "outputs": [
    {
     "data": {
      "text/plain": [
       "True"
      ]
     },
     "execution_count": 11,
     "metadata": {},
     "output_type": "execute_result"
    }
   ],
   "source": [
    "x = 3\n",
    "range = 0 < x < 5\n",
    "range"
   ]
  },
  {
   "cell_type": "markdown",
   "id": "bc90cb7c",
   "metadata": {},
   "source": [
    "5. Boolean values: PLEASE SEE SOLUTION ON SEPARATE LINK"
   ]
  },
  {
   "cell_type": "markdown",
   "id": "55429fa9",
   "metadata": {},
   "source": [
    "6. Summation of list with floats and integers "
   ]
  },
  {
   "cell_type": "code",
   "execution_count": 14,
   "id": "fdbe4775",
   "metadata": {},
   "outputs": [
    {
     "data": {
      "text/plain": [
       "91.2"
      ]
     },
     "execution_count": 14,
     "metadata": {},
     "output_type": "execute_result"
    }
   ],
   "source": [
    "list = [10, 16, 24, 15.4, 17.5, 8.3]\n",
    "sum(list)"
   ]
  },
  {
   "cell_type": "markdown",
   "id": "c441246e",
   "metadata": {},
   "source": [
    "7. Sorting list in increasing order"
   ]
  },
  {
   "cell_type": "code",
   "execution_count": 17,
   "id": "753086e2",
   "metadata": {},
   "outputs": [
    {
     "name": "stdout",
     "output_type": "stream",
     "text": [
      "List in Ascending Order:  [1, 3, 3, 5, 5, 7, 9]\n"
     ]
    }
   ],
   "source": [
    "list1 = [3, 5, 1, 3, 9, 5, 7]\n",
    "list1.sort()\n",
    "print('List in Ascending Order: ', list1)"
   ]
  },
  {
   "cell_type": "markdown",
   "id": "d0d131a3",
   "metadata": {},
   "source": [
    "8. Counting number of occurence "
   ]
  },
  {
   "cell_type": "code",
   "execution_count": 18,
   "id": "eb963ccf",
   "metadata": {},
   "outputs": [
    {
     "name": "stdout",
     "output_type": "stream",
     "text": [
      "5\n"
     ]
    }
   ],
   "source": [
    "list2 = [1, 2, 5, 7, 9, 0, 3, 6, 7, 1, 3, 5, 6, 8, 2, 9, 0, 5, 2, 1, 2, 4, 2]\n",
    "occur=list2.count(2)\n",
    "print(occur)"
   ]
  },
  {
   "cell_type": "markdown",
   "id": "1d485ea9",
   "metadata": {},
   "source": [
    "9. slicing: PLEASE SEE SOLUTION ON SEPARATE LINK"
   ]
  },
  {
   "cell_type": "markdown",
   "id": "ceb3772a",
   "metadata": {},
   "source": [
    "10. replacing a name "
   ]
  },
  {
   "cell_type": "code",
   "execution_count": 23,
   "id": "59fe37c1",
   "metadata": {},
   "outputs": [
    {
     "name": "stdout",
     "output_type": "stream",
     "text": [
      "The original list : ['Chima', 'Ebuka', 'Rose', 'Hassan', 'Bisi']\n",
      "The list after string replacement : ['Tosin', 'Ebuka', 'Rose', 'Hassan', 'Bisi']\n"
     ]
    }
   ],
   "source": [
    "list4 = [\"Chima\", \"Ebuka\", \"Rose\", \"Hassan\", \"Bisi\"]\n",
    "print(\"The original list : \" + str(list4))\n",
    "res = [item.replace(\"Chima\", \"Tosin\") for item in list4]\n",
    "print(\"The list after string replacement : \" + str(res))"
   ]
  },
  {
   "cell_type": "markdown",
   "id": "cc0ba0fd",
   "metadata": {},
   "source": [
    "11. Printing out index position "
   ]
  },
  {
   "cell_type": "code",
   "execution_count": 24,
   "id": "4a5a6b73",
   "metadata": {},
   "outputs": [
    {
     "data": {
      "text/plain": [
       "2"
      ]
     },
     "execution_count": 24,
     "metadata": {},
     "output_type": "execute_result"
    }
   ],
   "source": [
    "list4 = [\"Chima\", \"Ebuka\", \"Rose\", \"Hassan\", \"Bisi\"]\n",
    "[\"Chima\", \"Ebuka\", \"Rose\", \"Hassan\", \"Bisi\"].index(\"Rose\")"
   ]
  },
  {
   "cell_type": "markdown",
   "id": "28eb6a7d",
   "metadata": {},
   "source": [
    "12. Adding to list "
   ]
  },
  {
   "cell_type": "code",
   "execution_count": 25,
   "id": "3c4640e3",
   "metadata": {},
   "outputs": [
    {
     "name": "stdout",
     "output_type": "stream",
     "text": [
      "['Chima', 'Ebuka', 'Rose', 'Hassan', 'Bisi', 'Tosin']\n"
     ]
    }
   ],
   "source": [
    "list4 = [\"Chima\", \"Ebuka\", \"Rose\", \"Hassan\", \"Bisi\"]\n",
    "list4.append(\"Tosin\")\n",
    "print(list4)\n"
   ]
  },
  {
   "cell_type": "markdown",
   "id": "0a3f73bb",
   "metadata": {},
   "source": [
    "13. Attempting to sort a set "
   ]
  },
  {
   "cell_type": "code",
   "execution_count": 27,
   "id": "2aa8a410",
   "metadata": {},
   "outputs": [
    {
     "ename": "AttributeError",
     "evalue": "'set' object has no attribute 'sort'",
     "output_type": "error",
     "traceback": [
      "\u001b[1;31m---------------------------------------------------------------------------\u001b[0m",
      "\u001b[1;31mAttributeError\u001b[0m                            Traceback (most recent call last)",
      "\u001b[1;32m<ipython-input-27-cf0cc02c3b0c>\u001b[0m in \u001b[0;36m<module>\u001b[1;34m\u001b[0m\n\u001b[0;32m      1\u001b[0m \u001b[0msets\u001b[0m \u001b[1;33m=\u001b[0m \u001b[1;33m{\u001b[0m\u001b[1;36m3\u001b[0m\u001b[1;33m,\u001b[0m \u001b[1;36m1\u001b[0m\u001b[1;33m,\u001b[0m \u001b[1;36m10\u001b[0m\u001b[1;33m,\u001b[0m \u001b[1;36m4\u001b[0m\u001b[1;33m,\u001b[0m \u001b[1;36m5\u001b[0m\u001b[1;33m,\u001b[0m \u001b[1;36m6\u001b[0m\u001b[1;33m}\u001b[0m\u001b[1;33m\u001b[0m\u001b[1;33m\u001b[0m\u001b[0m\n\u001b[1;32m----> 2\u001b[1;33m \u001b[0msets\u001b[0m\u001b[1;33m.\u001b[0m\u001b[0msort\u001b[0m\u001b[1;33m(\u001b[0m\u001b[1;33m)\u001b[0m\u001b[1;33m\u001b[0m\u001b[1;33m\u001b[0m\u001b[0m\n\u001b[0m\u001b[0;32m      3\u001b[0m \u001b[0mprint\u001b[0m\u001b[1;33m(\u001b[0m\u001b[1;34m'List in Ascending Order: '\u001b[0m\u001b[1;33m,\u001b[0m \u001b[0msets\u001b[0m\u001b[1;33m)\u001b[0m\u001b[1;33m\u001b[0m\u001b[1;33m\u001b[0m\u001b[0m\n",
      "\u001b[1;31mAttributeError\u001b[0m: 'set' object has no attribute 'sort'"
     ]
    }
   ],
   "source": [
    "sets = {3, 1, 10, 4, 5, 6}\n",
    "sets.sort()\n",
    "print('List in Ascending Order: ', sets)"
   ]
  },
  {
   "cell_type": "markdown",
   "id": "c97cb18c",
   "metadata": {},
   "source": [
    "The curly brackets distinguishes this as a set. Sets are generally immutable. Hence, this cannot be sorted. "
   ]
  },
  {
   "cell_type": "markdown",
   "id": "7d70e216",
   "metadata": {},
   "source": [
    "14. printing new set "
   ]
  },
  {
   "cell_type": "code",
   "execution_count": 29,
   "id": "afd6a811",
   "metadata": {},
   "outputs": [
    {
     "name": "stdout",
     "output_type": "stream",
     "text": [
      "{70, 40, 10, 50, 20, 60, 30}\n"
     ]
    }
   ],
   "source": [
    "set1 = {10, 20, 30, 40, 50}\n",
    "set2 = {30, 40, 50, 60, 70}\n",
    "set3 = set1.union(set2)\n",
    "print(set3)"
   ]
  },
  {
   "cell_type": "code",
   "execution_count": 30,
   "id": "9e5dac57",
   "metadata": {},
   "outputs": [
    {
     "name": "stdout",
     "output_type": "stream",
     "text": [
      "{70, 40, 10, 50, 20, 60, 30}\n"
     ]
    }
   ],
   "source": [
    "set1.update(set2)\n",
    "print(set1)"
   ]
  },
  {
   "cell_type": "markdown",
   "id": "00fb3ec3",
   "metadata": {},
   "source": [
    "15. Long string"
   ]
  },
  {
   "cell_type": "code",
   "execution_count": null,
   "id": "f7442a76",
   "metadata": {},
   "outputs": [],
   "source": [
    "word = \"This has been an interesting course so far but is this sentence long enough\"\n",
    "word2 = word.replace(\"interesting\", \"\")"
   ]
  },
  {
   "cell_type": "code",
   "execution_count": null,
   "id": "49c18124",
   "metadata": {},
   "outputs": [],
   "source": [
    "print(word2)"
   ]
  },
  {
   "cell_type": "code",
   "execution_count": null,
   "id": "bf580cb4",
   "metadata": {},
   "outputs": [],
   "source": [
    "Please note that my notebook stopped working here. I have had to open another noteboo "
   ]
  }
 ],
 "metadata": {
  "kernelspec": {
   "display_name": "Python 3",
   "language": "python",
   "name": "python3"
  },
  "language_info": {
   "codemirror_mode": {
    "name": "ipython",
    "version": 3
   },
   "file_extension": ".py",
   "mimetype": "text/x-python",
   "name": "python",
   "nbconvert_exporter": "python",
   "pygments_lexer": "ipython3",
   "version": "3.8.8"
  }
 },
 "nbformat": 4,
 "nbformat_minor": 5
}
