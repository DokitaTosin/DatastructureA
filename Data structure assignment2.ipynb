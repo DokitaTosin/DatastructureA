{
 "cells": [
  {
   "cell_type": "markdown",
   "id": "d1d71a7c",
   "metadata": {},
   "source": [
    "Continuation"
   ]
  },
  {
   "cell_type": "code",
   "execution_count": 1,
   "id": "f6d842c0",
   "metadata": {},
   "outputs": [
    {
     "data": {
      "text/plain": [
       "['This',\n",
       " 'has',\n",
       " 'been',\n",
       " 'an',\n",
       " 'interesting',\n",
       " 'course',\n",
       " 'so',\n",
       " 'far',\n",
       " 'but',\n",
       " 'is',\n",
       " 'this',\n",
       " 'sentence',\n",
       " 'long',\n",
       " 'enough']"
      ]
     },
     "execution_count": 1,
     "metadata": {},
     "output_type": "execute_result"
    }
   ],
   "source": [
    "word = \"This has been an interesting course so far but is this sentence long enough\"\n",
    "word.split()"
   ]
  },
  {
   "cell_type": "code",
   "execution_count": 3,
   "id": "b6e03079",
   "metadata": {},
   "outputs": [],
   "source": [
    "word2 = word.replace(\"interesting\", \"\")"
   ]
  },
  {
   "cell_type": "code",
   "execution_count": 4,
   "id": "7e624397",
   "metadata": {},
   "outputs": [
    {
     "name": "stdout",
     "output_type": "stream",
     "text": [
      "This has been an  course so far but is this sentence long enough\n"
     ]
    }
   ],
   "source": [
    "print(word2)"
   ]
  },
  {
   "cell_type": "code",
   "execution_count": 5,
   "id": "8982e605",
   "metadata": {},
   "outputs": [
    {
     "data": {
      "text/plain": [
       "['This',\n",
       " 'has',\n",
       " 'been',\n",
       " 'an',\n",
       " 'course',\n",
       " 'so',\n",
       " 'far',\n",
       " 'but',\n",
       " 'is',\n",
       " 'this',\n",
       " 'sentence',\n",
       " 'long',\n",
       " 'enough']"
      ]
     },
     "execution_count": 5,
     "metadata": {},
     "output_type": "execute_result"
    }
   ],
   "source": [
    "word2.split()"
   ]
  },
  {
   "cell_type": "code",
   "execution_count": 8,
   "id": "3d7f3586",
   "metadata": {},
   "outputs": [],
   "source": [
    "word2 = ['This',\n",
    " 'has',\n",
    " 'been',\n",
    " 'an',\n",
    " 'course',\n",
    " 'so',\n",
    " 'far',\n",
    " 'but',\n",
    " 'is',\n",
    " 'this',\n",
    " 'sentence',\n",
    " 'long',\n",
    " 'enough']"
   ]
  },
  {
   "cell_type": "code",
   "execution_count": 9,
   "id": "faa65b88",
   "metadata": {},
   "outputs": [],
   "source": [
    "word2.remove(\"course\")"
   ]
  },
  {
   "cell_type": "code",
   "execution_count": 11,
   "id": "edcd97a3",
   "metadata": {},
   "outputs": [
    {
     "name": "stdout",
     "output_type": "stream",
     "text": [
      "['This', 'has', 'been', 'an', 'so', 'far', 'but', 'is', 'this', 'sentence', 'long', 'enough']\n"
     ]
    }
   ],
   "source": [
    "print(word2)"
   ]
  },
  {
   "cell_type": "code",
   "execution_count": 12,
   "id": "0a23adea",
   "metadata": {},
   "outputs": [],
   "source": [
    "word2.sort()"
   ]
  },
  {
   "cell_type": "code",
   "execution_count": 14,
   "id": "6c67fec6",
   "metadata": {},
   "outputs": [
    {
     "name": "stdout",
     "output_type": "stream",
     "text": [
      "List in Ascending Order:  ['This', 'an', 'been', 'but', 'enough', 'far', 'has', 'is', 'long', 'sentence', 'so', 'this']\n"
     ]
    }
   ],
   "source": [
    "print('List in Ascending Order: ', word2)"
   ]
  },
  {
   "cell_type": "markdown",
   "id": "7bc34e92",
   "metadata": {},
   "source": [
    "Not sure it make sense to sort this way"
   ]
  },
  {
   "cell_type": "code",
   "execution_count": 15,
   "id": "fe92366a",
   "metadata": {},
   "outputs": [],
   "source": [
    "word2.append(\"haba\")"
   ]
  },
  {
   "cell_type": "code",
   "execution_count": 16,
   "id": "6622f53c",
   "metadata": {},
   "outputs": [
    {
     "name": "stdout",
     "output_type": "stream",
     "text": [
      "['This', 'an', 'been', 'but', 'enough', 'far', 'has', 'is', 'long', 'sentence', 'so', 'this', 'haba']\n"
     ]
    }
   ],
   "source": [
    "print(word2)"
   ]
  },
  {
   "cell_type": "code",
   "execution_count": 17,
   "id": "fcbeb1ee",
   "metadata": {},
   "outputs": [],
   "source": [
    "word2.insert(3, \"tired\")"
   ]
  },
  {
   "cell_type": "code",
   "execution_count": 18,
   "id": "6197cca1",
   "metadata": {},
   "outputs": [
    {
     "name": "stdout",
     "output_type": "stream",
     "text": [
      "['This', 'an', 'been', 'tired', 'but', 'enough', 'far', 'has', 'is', 'long', 'sentence', 'so', 'this', 'haba']\n"
     ]
    }
   ],
   "source": [
    "print(word2)"
   ]
  },
  {
   "cell_type": "code",
   "execution_count": 23,
   "id": "56d3a449",
   "metadata": {},
   "outputs": [],
   "source": [
    "final=' '.join(word2)"
   ]
  },
  {
   "cell_type": "code",
   "execution_count": 24,
   "id": "9119ede7",
   "metadata": {},
   "outputs": [
    {
     "name": "stdout",
     "output_type": "stream",
     "text": [
      "This an been tired but enough far has is long sentence so this haba\n"
     ]
    }
   ],
   "source": [
    "print(final)"
   ]
  },
  {
   "cell_type": "markdown",
   "id": "50c89d15",
   "metadata": {},
   "source": [
    "\n",
    "Question 9: Code with string formatting "
   ]
  },
  {
   "cell_type": "code",
   "execution_count": 25,
   "id": "a8a29a24",
   "metadata": {},
   "outputs": [],
   "source": [
    "list3 = [\"Tosin\", 10.4, 9, (23, \"Faith\", [10,[\"Chinelo\", \"Sandra\"], 22]), 100, 85.5, 12.4, \"Promise\", (\"11\", 90)]\n"
   ]
  },
  {
   "cell_type": "markdown",
   "id": "8b5b0be8",
   "metadata": {},
   "source": [
    "I will like to print out each word separately first"
   ]
  },
  {
   "cell_type": "code",
   "execution_count": 32,
   "id": "c05324bb",
   "metadata": {},
   "outputs": [
    {
     "name": "stdout",
     "output_type": "stream",
     "text": [
      "Chinelo\n"
     ]
    }
   ],
   "source": [
    "a = list3[3][2][1][0]\n",
    "print(a)"
   ]
  },
  {
   "cell_type": "code",
   "execution_count": 33,
   "id": "61008c12",
   "metadata": {},
   "outputs": [
    {
     "name": "stdout",
     "output_type": "stream",
     "text": [
      "Faith\n"
     ]
    }
   ],
   "source": [
    "b = list3[3][1]\n",
    "print(b)"
   ]
  },
  {
   "cell_type": "code",
   "execution_count": 34,
   "id": "6841448c",
   "metadata": {},
   "outputs": [
    {
     "name": "stdout",
     "output_type": "stream",
     "text": [
      "100\n"
     ]
    }
   ],
   "source": [
    "c=list3[4]\n",
    "print(c)"
   ]
  },
  {
   "cell_type": "code",
   "execution_count": 35,
   "id": "e40ccc51",
   "metadata": {},
   "outputs": [
    {
     "name": "stdout",
     "output_type": "stream",
     "text": [
      "85.5\n"
     ]
    }
   ],
   "source": [
    "d=list3[5]\n",
    "print(d)"
   ]
  },
  {
   "cell_type": "code",
   "execution_count": 36,
   "id": "0cc87b84",
   "metadata": {},
   "outputs": [
    {
     "name": "stdout",
     "output_type": "stream",
     "text": [
      "90\n"
     ]
    }
   ],
   "source": [
    "e=list3[8][1]\n",
    "print(e)"
   ]
  },
  {
   "cell_type": "markdown",
   "id": "066ec99c",
   "metadata": {},
   "source": [
    "Now the final code to make the sentence using format function"
   ]
  },
  {
   "cell_type": "code",
   "execution_count": 37,
   "id": "b596d858",
   "metadata": {},
   "outputs": [
    {
     "name": "stdout",
     "output_type": "stream",
     "text": [
      "Chinelo couldnt score 100%, she got 90%, However, Faith is a close second with 85.5%.\n"
     ]
    }
   ],
   "source": [
    "print(\"{} couldnt score {}%, she got {}%, However, {} is a close second with {}%.\".format(a, c, e, b, d))"
   ]
  },
  {
   "cell_type": "markdown",
   "id": "89885321",
   "metadata": {},
   "source": [
    "Question 5: Boolean expressions"
   ]
  },
  {
   "cell_type": "code",
   "execution_count": 38,
   "id": "740cfca7",
   "metadata": {},
   "outputs": [],
   "source": [
    "x= True\n",
    "y= False"
   ]
  },
  {
   "cell_type": "code",
   "execution_count": 49,
   "id": "e365bee9",
   "metadata": {},
   "outputs": [],
   "source": [
    "expression_one = x==True and y==False"
   ]
  },
  {
   "cell_type": "code",
   "execution_count": 50,
   "id": "e9fef609",
   "metadata": {},
   "outputs": [
    {
     "name": "stdout",
     "output_type": "stream",
     "text": [
      "True\n"
     ]
    }
   ],
   "source": [
    "print(expression_one)"
   ]
  },
  {
   "cell_type": "code",
   "execution_count": 51,
   "id": "4582c819",
   "metadata": {},
   "outputs": [],
   "source": [
    "expression_two = x==True or y==False"
   ]
  },
  {
   "cell_type": "code",
   "execution_count": 52,
   "id": "1c66a975",
   "metadata": {},
   "outputs": [
    {
     "name": "stdout",
     "output_type": "stream",
     "text": [
      "True\n"
     ]
    }
   ],
   "source": [
    "print(expression_two)"
   ]
  },
  {
   "cell_type": "code",
   "execution_count": 53,
   "id": "9d623d6f",
   "metadata": {},
   "outputs": [],
   "source": [
    "expression_three = x==False and y==True"
   ]
  },
  {
   "cell_type": "code",
   "execution_count": 54,
   "id": "11469528",
   "metadata": {},
   "outputs": [
    {
     "name": "stdout",
     "output_type": "stream",
     "text": [
      "False\n"
     ]
    }
   ],
   "source": [
    "print(expression_three)"
   ]
  },
  {
   "cell_type": "code",
   "execution_count": null,
   "id": "490d4d5e",
   "metadata": {},
   "outputs": [],
   "source": []
  }
 ],
 "metadata": {
  "kernelspec": {
   "display_name": "Python 3",
   "language": "python",
   "name": "python3"
  },
  "language_info": {
   "codemirror_mode": {
    "name": "ipython",
    "version": 3
   },
   "file_extension": ".py",
   "mimetype": "text/x-python",
   "name": "python",
   "nbconvert_exporter": "python",
   "pygments_lexer": "ipython3",
   "version": "3.8.8"
  }
 },
 "nbformat": 4,
 "nbformat_minor": 5
}
